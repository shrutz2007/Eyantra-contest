{
  "nbformat": 4,
  "nbformat_minor": 0,
  "metadata": {
    "colab": {
      "name": "Eyantra .ipynb",
      "provenance": [],
      "collapsed_sections": []
    },
    "kernelspec": {
      "display_name": "Python 3",
      "name": "python3"
    }
  },
  "cells": [
    {
      "cell_type": "markdown",
      "metadata": {
        "id": "-xV4oQ_vqFWR"
      },
      "source": [
        "# **IFFOR_PY**"
      ]
    },
    {
      "cell_type": "code",
      "metadata": {
        "colab": {
          "base_uri": "https://localhost:8080/",
          "height": 212
        },
        "id": "x6XjQHVh3TV4",
        "outputId": "857b2d76-e9ff-4d90-b801-4c261143ae53"
      },
      "source": [
        "# Main function\n",
        "if __name__ == '__main__':\n",
        "\t\n",
        "\t# Take the T (test_cases) input\n",
        "\ttest_cases = int(input())\n",
        "\tfor i in range(test_cases):\t\t\n",
        "    \t\tn = int(input())\n",
        "    \t\tfor j in range(0,n):\n",
        "        \t\tif j != 0:\n",
        "            \t\t\tif j%2==1:\n",
        "               \t\t\t\tprint(j**2)\n",
        "            \t\t\telse:\n",
        "                \t\t\tprint(j*2)\n",
        "        \t\telse:\n",
        "            \t\t\tprint(3+j)"
      ],
      "execution_count": null,
      "outputs": [
        {
          "output_type": "stream",
          "text": [
            "2\n",
            "5\n",
            "3\n",
            "1\n",
            "4\n",
            "9\n",
            "8\n",
            "3\n",
            "3\n",
            "1\n",
            "4\n"
          ],
          "name": "stdout"
        }
      ]
    },
    {
      "cell_type": "markdown",
      "metadata": {
        "id": "WrOqIdCaqLVu"
      },
      "source": [
        "# Calculate the distance between 2 **points**"
      ]
    },
    {
      "cell_type": "code",
      "metadata": {
        "colab": {
          "base_uri": "https://localhost:8080/",
          "height": 105
        },
        "id": "xu1384YrA8ZT",
        "outputId": "ecac0432-af21-450b-8bdc-6db4b387ea16"
      },
      "source": [
        "import numpy as np\n",
        "\n",
        "def compute_distance(x1, y1, x2, y2):\n",
        "\n",
        "  point1 = np.array((x1, y1, 0)) \n",
        "  point2 = np.array((x2, y2, 0)) \n",
        "    \n",
        "  dist = np.linalg.norm(point1 - point2) \n",
        "    \n",
        "  print(\"Distance: \" + \"{:.2f}\".format(dist)) \n",
        "\n",
        "if __name__ == '__main__':\n",
        "    \n",
        "    for i in range(int(input())):\n",
        "      x1, y1, x2, y2 = list(map(int, input().split()))\n",
        "\n",
        "      compute_distance(x1, y1, x2, y2)"
      ],
      "execution_count": null,
      "outputs": [
        {
          "output_type": "stream",
          "text": [
            "2\n",
            "-1 0 5 0\n",
            "Distance: 6.00\n",
            "2 1 6 -2\n",
            "Distance: 5.00\n"
          ],
          "name": "stdout"
        }
      ]
    },
    {
      "cell_type": "markdown",
      "metadata": {
        "id": "1FKCKZ2qrJGK"
      },
      "source": [
        "# **Slice the list**"
      ]
    },
    {
      "cell_type": "code",
      "metadata": {
        "colab": {
          "base_uri": "https://localhost:8080/",
          "height": 141
        },
        "id": "C1hicxqUFIR4",
        "outputId": "8bdab6ec-37ea-4062-efc3-906fc330cf91"
      },
      "source": [
        "for i in range(int(input())):\n",
        "  L = int(input())\n",
        "  data = list(map(int, input().split()))\n",
        "\n",
        "  rev = data[::-1]\n",
        "  for i in range(L):\n",
        "    print(rev[i], end=' ')\n",
        "  print()\n",
        "  \n",
        "  for i in range(1, L):\n",
        "    if i%3==0:\n",
        "      print(data[i]+3, end=' ')\n",
        "  print()\n",
        "  \n",
        "  for i in range(1, L):\n",
        "    if i%5==0:\n",
        "      print(data[i]-7, end=' ')\n",
        "  print()\n",
        "\n",
        "  print(sum(data[3:8]))\n",
        "\n"
      ],
      "execution_count": null,
      "outputs": [
        {
          "output_type": "stream",
          "text": [
            "1\n",
            "8\n",
            "-2 4 5 6 2 -9 4 3 \n",
            "3 4 -9 2 6 5 4 -2 \n",
            "9 7 \n",
            "-16 \n",
            "6\n"
          ],
          "name": "stdout"
        }
      ]
    },
    {
      "cell_type": "markdown",
      "metadata": {
        "id": "AwVeCafvrwCS"
      },
      "source": [
        "# Arithmetic Progression with Lambda **function**"
      ]
    },
    {
      "cell_type": "code",
      "metadata": {
        "colab": {
          "base_uri": "https://localhost:8080/",
          "height": 105
        },
        "id": "KL1yOJhAuFmP",
        "outputId": "9963bcc8-d9d2-499d-e19d-ffe1b9e5746b"
      },
      "source": [
        "from functools import reduce\n",
        "\n",
        "def generate_AP(a1, d, n):\n",
        "    AP = []\n",
        "    for i in range(n):\n",
        "      AP.append(i*d + a1)\n",
        "    return AP\n",
        "\n",
        "if __name__ == '__main__':\n",
        "  \n",
        "  test_cases = int(input())\n",
        "  \n",
        "  for i in range(test_cases):\n",
        "\n",
        "    a1, d, n = list(map(int, input().split()))\n",
        "    AP_series = generate_AP(a1, d, n)\n",
        "\n",
        "    sqr_AP_series = list(map(lambda x:x**2, AP_series))\n",
        "\n",
        "    sum_sqr_AP_series = reduce(lambda a,b : a+b,sqr_AP_series)\n",
        "\n",
        "\n",
        "    for i in range(len(AP_series)):\n",
        "      print(AP_series[i], end=' ')\n",
        "    print()\n",
        "    for i in range(len(AP_series)):\n",
        "      print(sqr_AP_series[i], end=' ')\n",
        "    print()\n",
        "    print(sum_sqr_AP_series) \n"
      ],
      "execution_count": null,
      "outputs": [
        {
          "output_type": "stream",
          "text": [
            "1\n",
            "2 5 7\n",
            "2 7 12 17 22 27 32 \n",
            "4 49 144 289 484 729 1024 \n",
            "2723\n"
          ],
          "name": "stdout"
        }
      ]
    },
    {
      "cell_type": "markdown",
      "metadata": {
        "id": "bcKhnfTvsU9M"
      },
      "source": [
        "# **Decimal** to Binary converter "
      ]
    },
    {
      "cell_type": "code",
      "metadata": {
        "colab": {
          "base_uri": "https://localhost:8080/",
          "height": 105
        },
        "id": "-eN6ju2wAIo2",
        "outputId": "a9060843-e4ff-4aa3-d161-b51f5d736234"
      },
      "source": [
        "for i in range(int(input())):\n",
        "  d = int(input())\n",
        "  s = \"{0:b}\".format(d)\n",
        "  s = '0'*(8-len(s)) + s\n",
        "  print(s)\n"
      ],
      "execution_count": null,
      "outputs": [
        {
          "output_type": "stream",
          "text": [
            "2\n",
            "32\n",
            "00100000\n",
            "3\n",
            "00000011\n"
          ],
          "name": "stdout"
        }
      ]
    }
  ]
}